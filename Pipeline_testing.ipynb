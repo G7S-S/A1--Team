{
 "cells": [
  {
   "cell_type": "markdown",
   "metadata": {},
   "source": [
    "# Section 3: Developing ML models\n",
    "## 3.1 Pipeline Models"
   ]
  },
  {
   "cell_type": "code",
   "execution_count": 1,
   "metadata": {},
   "outputs": [],
   "source": [
    "import pandas as pd\n",
    "X_train = pd.read_csv('X_train_pca.csv')\n",
    "y_train = pd.read_csv('y_train.csv')"
   ]
  },
  {
   "cell_type": "code",
   "execution_count": null,
   "metadata": {},
   "outputs": [],
   "source": [
    "from sklearn.linear_model import LogisticRegression\n",
    "from sklearn.ensemble import RandomForestClassifier\n",
    "from sklearn.ensemble import VotingClassifier\n",
    "from sklearn.ensemble import AdaBoostClassifier\n",
    "from sklearn.ensemble import GradientBoostingClassifier\n",
    "from sklearn.ensemble import BaggingClassifier\n",
    "from sklearn.ensemble import ExtraTreesClassifier\n",
    "from sklearn.tree import DecisionTreeClassifier\n",
    "from sklearn import model_selection\n",
    "import xgboost as xgb #Downloaded package in Environmnet before run of this notebook\n",
    "from sklearn.model_selection import GridSearchCV\n",
    "from sklearn.model_selection import cross_val_score\n",
    "from sklearn.metrics import classification_report, confusion_matrix,accuracy_score,fbeta_score,matthews_corrcoef\n",
    "from sklearn.metrics import log_loss,roc_auc_score,precision_score,f1_score,recall_score,roc_curve,auc"
   ]
  },
  {
   "cell_type": "code",
   "execution_count": null,
   "metadata": {},
   "outputs": [],
   "source": [
    "def PipelineModels():\n",
    "    PipelineModels = []\n",
    "    PipelineModels.append(('LR_L2'   , LogisticRegression(penalty='l2', random_state=42)))\n",
    "    PipelineModels.append(('CART' , DecisionTreeClassifier(random_state=42)))\n",
    "    PipelineModels.append(('AB'   , AdaBoostClassifier(random_state=42)))\n",
    "    PipelineModels.append(('GBM'  , GradientBoostingClassifier(n_estimators=100,max_features='sqrt', random_state=42)))\n",
    "    PipelineModels.append(('BC'   , BaggingClassifier( n_estimators=50, random_state=42)))\n",
    "    PipelineModels.append(('RF_Ent100'   , RandomForestClassifier(criterion='entropy', random_state=42)))\n",
    "    PipelineModels.append(('RF_Gini100'   , RandomForestClassifier(criterion='gini', random_state=42)))\n",
    "    PipelineModels.append(('ET100'   , ExtraTreesClassifier(n_estimators= 100, random_state=42 )))\n",
    "    PipelineModels.append(('ET500'   , ExtraTreesClassifier(n_estimators= 500, random_state=42)))\n",
    "    PipelineModels.append(('XGB1000'   , xgb.XGBClassifier(n_estimators= 1000, random_state=42)))\n",
    "    PipelineModels.append(('XGB2000'   , xgb.XGBClassifier(n_estimators= 2000, random_state=42)))\n",
    "    \n",
    "    return PipelineModels\n",
    "\n",
    "# function for performing 10-fold cross validation of all the baseline models, source Kaggle\n",
    "def PipelineModel2(X_train, y_train,models):\n",
    "    # Test options and evaluation metric\n",
    "    num_folds = 10\n",
    "    scoring = 'f1'\n",
    "    seed = 7\n",
    "    results = []\n",
    "    names = []\n",
    "    for name, model in models:\n",
    "        kfold = model_selection.KFold(n_splits=10)\n",
    "        cv_results = model_selection.cross_val_score(model, X_train, y_train, cv=kfold, scoring=scoring, n_jobs=-1)\n",
    "        results.append(cv_results)\n",
    "        names.append(name)\n",
    "        msg = \"%s: %f (%f)\" % (name, cv_results.mean(), cv_results.std())\n",
    "        print(msg)\n",
    "         \n",
    "        \n",
    "    return results,msg"
   ]
  },
  {
   "cell_type": "code",
   "execution_count": null,
   "metadata": {},
   "outputs": [],
   "source": [
    "models = PipelineModels()\n",
    "names,results = PipelineModel2(X_train, y_train,models) "
   ]
  },
  {
   "cell_type": "code",
   "execution_count": null,
   "metadata": {},
   "outputs": [],
   "source": []
  }
 ],
 "metadata": {
  "interpreter": {
   "hash": "ad2bdc8ecc057115af97d19610ffacc2b4e99fae6737bb82f5d7fb13d2f2c186"
  },
  "kernelspec": {
   "display_name": "Python 3.9.7 ('base')",
   "language": "python",
   "name": "python3"
  },
  "language_info": {
   "codemirror_mode": {
    "name": "ipython",
    "version": 3
   },
   "file_extension": ".py",
   "mimetype": "text/x-python",
   "name": "python",
   "nbconvert_exporter": "python",
   "pygments_lexer": "ipython3",
   "version": "3.9.7"
  },
  "orig_nbformat": 4
 },
 "nbformat": 4,
 "nbformat_minor": 2
}
