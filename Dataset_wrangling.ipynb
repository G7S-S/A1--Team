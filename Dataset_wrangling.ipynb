{
  "cells": [
    {
      "cell_type": "markdown",
      "metadata": {
        "id": "view-in-github",
        "colab_type": "text"
      },
      "source": [
        "<a href=\"https://colab.research.google.com/github/Gagan-Shetty/A1--Team/blob/main/Dataset_wrangling.ipynb\" target=\"_parent\"><img src=\"https://colab.research.google.com/assets/colab-badge.svg\" alt=\"Open In Colab\"/></a>"
      ]
    },
    {
      "cell_type": "code",
      "execution_count": null,
      "metadata": {
        "id": "ux9QO3EP2dnX"
      },
      "outputs": [],
      "source": [
        "import pandas as pd"
      ]
    },
    {
      "cell_type": "code",
      "source": [
        "df_2023 = pd.read_csv(\"http://prod.publicdata.landregistry.gov.uk.s3-website-eu-west-1.amazonaws.com/pp-2023.csv\", low_memory = False)\n",
        "df_2022 = pd.read_csv(\"http://prod.publicdata.landregistry.gov.uk.s3-website-eu-west-1.amazonaws.com/pp-2022.csv\", low_memory = False)\n",
        "df_2021 = pd.read_csv(\"http://prod.publicdata.landregistry.gov.uk.s3-website-eu-west-1.amazonaws.com/pp-2021.csv\", low_memory = False)\n",
        "df_2020 = pd.read_csv(\"http://prod.publicdata.landregistry.gov.uk.s3-website-eu-west-1.amazonaws.com/pp-2020.csv\", low_memory = False)\n"
      ],
      "metadata": {
        "id": "J9nvXM4S2qEu"
      },
      "execution_count": null,
      "outputs": []
    },
    {
      "cell_type": "code",
      "source": [
        "#adding year so that it can identified when datasets are merged\n",
        "df_2023['year'] = 2023\n",
        "df_2022['year'] = 2022\n",
        "df_2021['year'] = 2021\n",
        "df_2020['year'] = 2020"
      ],
      "metadata": {
        "id": "Sx1KdsMU28oc"
      },
      "execution_count": null,
      "outputs": []
    },
    {
      "cell_type": "code",
      "source": [
        "df_2023.to_csv('df_2023.csv')\n",
        "df_2022.to_csv('df_2022.csv')\n",
        "df_2021.to_csv('df_2021.csv')\n",
        "df_2020.to_csv('df_2020.csv')\n",
        "\n",
        "#ssssss\n"
      ],
      "metadata": {
        "id": "WXE-pu1-3ARm"
      },
      "execution_count": null,
      "outputs": []
    },
    {
      "cell_type": "code",
      "execution_count": null,
      "metadata": {
        "id": "pczO-qhq-ud3"
      },
      "outputs": [],
      "source": []
    }
  ],
  "metadata": {
    "kernelspec": {
      "display_name": "Python 3",
      "language": "python",
      "name": "python3"
    },
    "language_info": {
      "codemirror_mode": {
        "name": "ipython",
        "version": 3
      },
      "file_extension": ".py",
      "mimetype": "text/x-python",
      "name": "python",
      "nbconvert_exporter": "python",
      "pygments_lexer": "ipython3",
      "version": "3.10.9"
    },
    "orig_nbformat": 4,
    "colab": {
      "provenance": [],
      "include_colab_link": true
    }
  },
  "nbformat": 4,
  "nbformat_minor": 0
}