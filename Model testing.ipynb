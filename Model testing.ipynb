{
 "cells": [
  {
   "cell_type": "code",
   "execution_count": null,
   "id": "aceac6aa",
   "metadata": {},
   "outputs": [],
   "source": []
  },
  {
   "cell_type": "code",
   "execution_count": 24,
   "id": "e572bc69",
   "metadata": {},
   "outputs": [],
   "source": [
    "import logging\n",
    "logging.basicConfig()\n",
    "logging.getLogger().setLevel(logging.ERROR)\n",
    "\n",
    "import pandas as pd\n",
    "import numpy as np\n",
    "import matplotlib.pyplot as plt \n",
    "from matplotlib.pyplot import figure\n",
    "import seaborn as sns \n",
    "from joblib import dump\n",
    "from joblib import load\n",
    "import time\n",
    "from sklearn.feature_selection import SelectFromModel\n",
    "\n",
    "from sklearn.model_selection import GridSearchCV, RandomizedSearchCV\n",
    "from sklearn.metrics import precision_recall_fscore_support, plot_confusion_matrix, plot_precision_recall_curve\n",
    "from sklearn.feature_selection import SelectFromModel"
   ]
  },
  {
   "cell_type": "code",
   "execution_count": 25,
   "id": "7bd56b40",
   "metadata": {},
   "outputs": [],
   "source": [
    "X_train = pd.read_csv('X_train_pca.csv')\n",
    "y_train = pd.read_csv('y_train.csv')\n",
    "holdout = pd.read_csv('df_h_pca.csv')"
   ]
  },
  {
   "cell_type": "code",
   "execution_count": 26,
   "id": "94e2b038",
   "metadata": {},
   "outputs": [
    {
     "data": {
      "text/html": [
       "<div>\n",
       "<style scoped>\n",
       "    .dataframe tbody tr th:only-of-type {\n",
       "        vertical-align: middle;\n",
       "    }\n",
       "\n",
       "    .dataframe tbody tr th {\n",
       "        vertical-align: top;\n",
       "    }\n",
       "\n",
       "    .dataframe thead th {\n",
       "        text-align: right;\n",
       "    }\n",
       "</style>\n",
       "<table border=\"1\" class=\"dataframe\">\n",
       "  <thead>\n",
       "    <tr style=\"text-align: right;\">\n",
       "      <th></th>\n",
       "      <th>0</th>\n",
       "      <th>1</th>\n",
       "      <th>2</th>\n",
       "      <th>3</th>\n",
       "      <th>4</th>\n",
       "      <th>5</th>\n",
       "      <th>6</th>\n",
       "      <th>7</th>\n",
       "      <th>8</th>\n",
       "      <th>9</th>\n",
       "      <th>...</th>\n",
       "      <th>65</th>\n",
       "      <th>66</th>\n",
       "      <th>67</th>\n",
       "      <th>68</th>\n",
       "      <th>69</th>\n",
       "      <th>70</th>\n",
       "      <th>71</th>\n",
       "      <th>72</th>\n",
       "      <th>73</th>\n",
       "      <th>74</th>\n",
       "    </tr>\n",
       "  </thead>\n",
       "  <tbody>\n",
       "    <tr>\n",
       "      <th>0</th>\n",
       "      <td>-1.593356</td>\n",
       "      <td>1.669345</td>\n",
       "      <td>0.485182</td>\n",
       "      <td>-0.488738</td>\n",
       "      <td>-0.013172</td>\n",
       "      <td>0.341424</td>\n",
       "      <td>-0.067744</td>\n",
       "      <td>-0.629556</td>\n",
       "      <td>0.631818</td>\n",
       "      <td>-0.224100</td>\n",
       "      <td>...</td>\n",
       "      <td>-0.063315</td>\n",
       "      <td>-0.029822</td>\n",
       "      <td>-0.061270</td>\n",
       "      <td>0.045718</td>\n",
       "      <td>-0.012868</td>\n",
       "      <td>-0.007344</td>\n",
       "      <td>-0.032531</td>\n",
       "      <td>-0.025180</td>\n",
       "      <td>-0.008729</td>\n",
       "      <td>-0.015971</td>\n",
       "    </tr>\n",
       "    <tr>\n",
       "      <th>1</th>\n",
       "      <td>-1.529292</td>\n",
       "      <td>1.672648</td>\n",
       "      <td>0.441669</td>\n",
       "      <td>-0.506389</td>\n",
       "      <td>-0.061353</td>\n",
       "      <td>0.369166</td>\n",
       "      <td>-0.064896</td>\n",
       "      <td>-0.626892</td>\n",
       "      <td>0.615794</td>\n",
       "      <td>-0.173749</td>\n",
       "      <td>...</td>\n",
       "      <td>-0.068806</td>\n",
       "      <td>-0.030480</td>\n",
       "      <td>-0.062651</td>\n",
       "      <td>0.053774</td>\n",
       "      <td>-0.007081</td>\n",
       "      <td>-0.008953</td>\n",
       "      <td>-0.026717</td>\n",
       "      <td>-0.021488</td>\n",
       "      <td>-0.006320</td>\n",
       "      <td>-0.010030</td>\n",
       "    </tr>\n",
       "    <tr>\n",
       "      <th>2</th>\n",
       "      <td>-1.445299</td>\n",
       "      <td>1.666598</td>\n",
       "      <td>0.420815</td>\n",
       "      <td>-0.535050</td>\n",
       "      <td>-0.119022</td>\n",
       "      <td>0.379757</td>\n",
       "      <td>-0.066653</td>\n",
       "      <td>-0.605994</td>\n",
       "      <td>0.591155</td>\n",
       "      <td>-0.147865</td>\n",
       "      <td>...</td>\n",
       "      <td>-0.064247</td>\n",
       "      <td>-0.027593</td>\n",
       "      <td>-0.056497</td>\n",
       "      <td>0.059192</td>\n",
       "      <td>-0.000061</td>\n",
       "      <td>-0.008979</td>\n",
       "      <td>-0.022687</td>\n",
       "      <td>-0.020684</td>\n",
       "      <td>-0.000046</td>\n",
       "      <td>-0.002719</td>\n",
       "    </tr>\n",
       "    <tr>\n",
       "      <th>3</th>\n",
       "      <td>-1.319651</td>\n",
       "      <td>1.640965</td>\n",
       "      <td>0.446621</td>\n",
       "      <td>-0.586713</td>\n",
       "      <td>-0.197696</td>\n",
       "      <td>0.354527</td>\n",
       "      <td>-0.077906</td>\n",
       "      <td>-0.547356</td>\n",
       "      <td>0.548597</td>\n",
       "      <td>-0.171514</td>\n",
       "      <td>...</td>\n",
       "      <td>-0.039318</td>\n",
       "      <td>-0.016865</td>\n",
       "      <td>-0.035073</td>\n",
       "      <td>0.059619</td>\n",
       "      <td>0.009603</td>\n",
       "      <td>-0.005898</td>\n",
       "      <td>-0.022549</td>\n",
       "      <td>-0.025616</td>\n",
       "      <td>0.014112</td>\n",
       "      <td>0.007295</td>\n",
       "    </tr>\n",
       "    <tr>\n",
       "      <th>4</th>\n",
       "      <td>-1.234909</td>\n",
       "      <td>1.639589</td>\n",
       "      <td>0.436070</td>\n",
       "      <td>-0.604991</td>\n",
       "      <td>-0.261456</td>\n",
       "      <td>0.341620</td>\n",
       "      <td>-0.080155</td>\n",
       "      <td>-0.534751</td>\n",
       "      <td>0.541604</td>\n",
       "      <td>-0.176264</td>\n",
       "      <td>...</td>\n",
       "      <td>-0.034881</td>\n",
       "      <td>-0.006702</td>\n",
       "      <td>-0.029694</td>\n",
       "      <td>0.048313</td>\n",
       "      <td>0.016192</td>\n",
       "      <td>-0.008487</td>\n",
       "      <td>-0.020978</td>\n",
       "      <td>-0.024503</td>\n",
       "      <td>0.017094</td>\n",
       "      <td>0.007382</td>\n",
       "    </tr>\n",
       "  </tbody>\n",
       "</table>\n",
       "<p>5 rows × 75 columns</p>\n",
       "</div>"
      ],
      "text/plain": [
       "          0         1         2         3         4         5         6  \\\n",
       "0 -1.593356  1.669345  0.485182 -0.488738 -0.013172  0.341424 -0.067744   \n",
       "1 -1.529292  1.672648  0.441669 -0.506389 -0.061353  0.369166 -0.064896   \n",
       "2 -1.445299  1.666598  0.420815 -0.535050 -0.119022  0.379757 -0.066653   \n",
       "3 -1.319651  1.640965  0.446621 -0.586713 -0.197696  0.354527 -0.077906   \n",
       "4 -1.234909  1.639589  0.436070 -0.604991 -0.261456  0.341620 -0.080155   \n",
       "\n",
       "          7         8         9  ...        65        66        67        68  \\\n",
       "0 -0.629556  0.631818 -0.224100  ... -0.063315 -0.029822 -0.061270  0.045718   \n",
       "1 -0.626892  0.615794 -0.173749  ... -0.068806 -0.030480 -0.062651  0.053774   \n",
       "2 -0.605994  0.591155 -0.147865  ... -0.064247 -0.027593 -0.056497  0.059192   \n",
       "3 -0.547356  0.548597 -0.171514  ... -0.039318 -0.016865 -0.035073  0.059619   \n",
       "4 -0.534751  0.541604 -0.176264  ... -0.034881 -0.006702 -0.029694  0.048313   \n",
       "\n",
       "         69        70        71        72        73        74  \n",
       "0 -0.012868 -0.007344 -0.032531 -0.025180 -0.008729 -0.015971  \n",
       "1 -0.007081 -0.008953 -0.026717 -0.021488 -0.006320 -0.010030  \n",
       "2 -0.000061 -0.008979 -0.022687 -0.020684 -0.000046 -0.002719  \n",
       "3  0.009603 -0.005898 -0.022549 -0.025616  0.014112  0.007295  \n",
       "4  0.016192 -0.008487 -0.020978 -0.024503  0.017094  0.007382  \n",
       "\n",
       "[5 rows x 75 columns]"
      ]
     },
     "execution_count": 26,
     "metadata": {},
     "output_type": "execute_result"
    }
   ],
   "source": [
    "X_train.head()"
   ]
  },
  {
   "cell_type": "code",
   "execution_count": 27,
   "id": "570a19c0",
   "metadata": {},
   "outputs": [
    {
     "data": {
      "text/plain": [
       "Class\n",
       "-1.0     8528\n",
       " 1.0     1435\n",
       "dtype: int64"
      ]
     },
     "execution_count": 27,
     "metadata": {},
     "output_type": "execute_result"
    }
   ],
   "source": [
    "y_train.value_counts()"
   ]
  },
  {
   "cell_type": "code",
   "execution_count": 28,
   "id": "3dcb6144",
   "metadata": {},
   "outputs": [
    {
     "data": {
      "text/plain": [
       "{-1.0: 8528, 1.0: 1435}"
      ]
     },
     "execution_count": 28,
     "metadata": {},
     "output_type": "execute_result"
    }
   ],
   "source": [
    "from collections import Counter\n",
    "from sklearn.datasets import make_classification\n",
    "from imblearn.over_sampling import RandomOverSampler\n",
    "#checking initially number of records in each class\n",
    "unique, count= np.unique(y_train,return_counts=True)\n",
    "ytrain_dict_value_count={k:v for (k,v) in zip(unique, count)}\n",
    "ytrain_dict_value_count"
   ]
  },
  {
   "cell_type": "code",
   "execution_count": 29,
   "id": "49969e73",
   "metadata": {},
   "outputs": [
    {
     "name": "stdout",
     "output_type": "stream",
     "text": [
      "Counter({'Class': 1})\n"
     ]
    }
   ],
   "source": [
    "# define oversampling strategy\n",
    "over = RandomOverSampler(sampling_strategy={-1:8528, 1:8000 })\n",
    "# fit and apply the transform\n",
    "Xtrain_oslr, ytrain_oslr = over.fit_resample(X_train, y_train)\n",
    "#  check new class distribution\n",
    "print(Counter(ytrain_oslr))"
   ]
  },
  {
   "cell_type": "markdown",
   "id": "dbd7781e",
   "metadata": {},
   "source": [
    "## Random forest - Cost sensitive balancing"
   ]
  },
  {
   "cell_type": "code",
   "execution_count": 42,
   "id": "d0263006",
   "metadata": {},
   "outputs": [
    {
     "name": "stderr",
     "output_type": "stream",
     "text": [
      "C:\\ProgramData\\Anaconda3\\lib\\site-packages\\sklearn\\model_selection\\_search.py:880: DataConversionWarning: A column-vector y was passed when a 1d array was expected. Please change the shape of y to (n_samples,), for example using ravel().\n",
      "  self.best_estimator_.fit(X, y, **fit_params)\n"
     ]
    },
    {
     "name": "stdout",
     "output_type": "stream",
     "text": [
      "Took 16.39242959022522 seconds\n"
     ]
    }
   ],
   "source": [
    "from sklearn.ensemble import RandomForestClassifier\n",
    "rf = RandomForestClassifier(class_weight=\"balanced\")\n",
    "\n",
    "param_grid = {\n",
    "        'n_estimators': [300],\n",
    "        'max_depth': [5]\n",
    "}\n",
    "\n",
    "\n",
    "# we'll use 5-fold cross-validation\n",
    "grid_search = GridSearchCV(rf, param_grid, cv=5, \n",
    "                              scoring='f1_macro',return_train_score=True, n_jobs=-1)\n",
    "\n",
    "start = time.time()\n",
    "grid_search.fit(X_train, y_train)\n",
    "end = time.time() - start\n",
    "print(f\"Took {end} seconds\")"
   ]
  },
  {
   "cell_type": "code",
   "execution_count": 43,
   "id": "f7320165",
   "metadata": {},
   "outputs": [],
   "source": [
    "#Best estimators from the grid search \n",
    "rfc_best_estimate = grid_search.best_estimator_"
   ]
  },
  {
   "cell_type": "code",
   "execution_count": 44,
   "id": "15ff26d4",
   "metadata": {},
   "outputs": [
    {
     "data": {
      "text/plain": [
       "0.6933896841333319"
      ]
     },
     "execution_count": 44,
     "metadata": {},
     "output_type": "execute_result"
    }
   ],
   "source": [
    "#check the average accuracy over the five k-fold \n",
    "grid_search.best_score_"
   ]
  },
  {
   "cell_type": "code",
   "execution_count": 45,
   "id": "ff0e4e0b",
   "metadata": {},
   "outputs": [
    {
     "data": {
      "text/plain": [
       "0"
      ]
     },
     "execution_count": 45,
     "metadata": {},
     "output_type": "execute_result"
    }
   ],
   "source": [
    "best_model_index = grid_search.cv_results_[\"rank_test_score\"].tolist().index(1)\n",
    "best_model_index"
   ]
  },
  {
   "cell_type": "code",
   "execution_count": 46,
   "id": "5aa554fb",
   "metadata": {},
   "outputs": [],
   "source": [
    "log_split_test_scores = []\n",
    "for x in range(5):\n",
    "    # extract f-score of the best model (index='best_model_index') from each of the 5 splits\n",
    "    val = grid_search.cv_results_[f\"split{x}_test_score\"][best_model_index]\n",
    "    log_split_test_scores.append(val)"
   ]
  },
  {
   "cell_type": "code",
   "execution_count": 47,
   "id": "28052017",
   "metadata": {
    "scrolled": true
   },
   "outputs": [
    {
     "data": {
      "text/html": [
       "<div>\n",
       "<style scoped>\n",
       "    .dataframe tbody tr th:only-of-type {\n",
       "        vertical-align: middle;\n",
       "    }\n",
       "\n",
       "    .dataframe tbody tr th {\n",
       "        vertical-align: top;\n",
       "    }\n",
       "\n",
       "    .dataframe thead th {\n",
       "        text-align: right;\n",
       "    }\n",
       "</style>\n",
       "<table border=\"1\" class=\"dataframe\">\n",
       "  <thead>\n",
       "    <tr style=\"text-align: right;\">\n",
       "      <th></th>\n",
       "      <th>params</th>\n",
       "      <th>mean_train_score</th>\n",
       "      <th>mean_test_score</th>\n",
       "      <th>diff, %</th>\n",
       "    </tr>\n",
       "  </thead>\n",
       "  <tbody>\n",
       "    <tr>\n",
       "      <th>0</th>\n",
       "      <td>{'max_depth': 5, 'n_estimators': 300}</td>\n",
       "      <td>0.945965</td>\n",
       "      <td>0.69339</td>\n",
       "      <td>26.700293</td>\n",
       "    </tr>\n",
       "  </tbody>\n",
       "</table>\n",
       "</div>"
      ],
      "text/plain": [
       "                                  params  mean_train_score  mean_test_score  \\\n",
       "0  {'max_depth': 5, 'n_estimators': 300}          0.945965          0.69339   \n",
       "\n",
       "     diff, %  \n",
       "0  26.700293  "
      ]
     },
     "execution_count": 47,
     "metadata": {},
     "output_type": "execute_result"
    }
   ],
   "source": [
    "cv_results = pd.DataFrame(grid_search.cv_results_)[['params', 'mean_train_score', 'mean_test_score']]\n",
    "cv_results[\"diff, %\"] = 100*(cv_results[\"mean_train_score\"]-cv_results[\"mean_test_score\"]\n",
    "                                                     )/cv_results[\"mean_train_score\"]\n",
    "\n",
    "pd.set_option('display.max_colwidth', 100)\n",
    "cv_results.sort_values('mean_test_score', ascending=False)"
   ]
  },
  {
   "cell_type": "code",
   "execution_count": 48,
   "id": "726faeed",
   "metadata": {},
   "outputs": [
    {
     "data": {
      "text/plain": [
       "['models/rfc_best_estimate.joblib']"
      ]
     },
     "execution_count": 48,
     "metadata": {},
     "output_type": "execute_result"
    }
   ],
   "source": [
    "import os\n",
    "from joblib import dump\n",
    "\n",
    "if not os.path.exists('models'):\n",
    "    os.makedirs('models')\n",
    "    \n",
    "dump(rfc_best_estimate, 'models/rfc_best_estimate.joblib')"
   ]
  },
  {
   "cell_type": "code",
   "execution_count": 49,
   "id": "07d5913e",
   "metadata": {},
   "outputs": [],
   "source": [
    "X_test = pd.read_csv('X_test_pca.csv')\n",
    "y_test = pd.read_csv('y_test.csv')"
   ]
  },
  {
   "cell_type": "code",
   "execution_count": 50,
   "id": "17dc85de",
   "metadata": {},
   "outputs": [
    {
     "name": "stdout",
     "output_type": "stream",
     "text": [
      " F score: 0.5741279191855476\n"
     ]
    }
   ],
   "source": [
    "from sklearn.metrics import precision_recall_fscore_support\n",
    "best_rf = load('models/rfc_best_estimate.joblib')\n",
    "yhat_rf = best_rf.predict(X_test)\n",
    "\n",
    "p, r, rf_test_score, s = precision_recall_fscore_support(y_test, yhat_rf, average = 'macro')\n",
    "\n",
    "print(f' F score: {rf_test_score}')"
   ]
  },
  {
   "cell_type": "code",
   "execution_count": 51,
   "id": "0ad582a3",
   "metadata": {},
   "outputs": [
    {
     "name": "stdout",
     "output_type": "stream",
     "text": [
      "[[6895   34]\n",
      " [1275  201]]\n"
     ]
    }
   ],
   "source": [
    "from sklearn.metrics import confusion_matrix\n",
    "cfsn_matrix = confusion_matrix(y_test, yhat_rf)\n",
    "print(cfsn_matrix)"
   ]
  },
  {
   "cell_type": "code",
   "execution_count": 52,
   "id": "106cc1fb",
   "metadata": {},
   "outputs": [],
   "source": [
    "#Converting the values into proportions based on category\n",
    "cfsn_matrix = (cfsn_matrix.T/cfsn_matrix.sum(axis=1)).T"
   ]
  },
  {
   "cell_type": "code",
   "execution_count": 53,
   "id": "44acabc6",
   "metadata": {},
   "outputs": [
    {
     "data": {
      "image/png": "[encoded data removed]",
      "text/plain": [
       "<Figure size 720x576 with 2 Axes>"
      ]
     },
     "metadata": {},
     "output_type": "display_data"
    }
   ],
   "source": [
    "import seaborn as sns\n",
    "import matplotlib.pyplot as plt\n",
    "\n",
    "#Setting figure size\n",
    "sns.set(rc={'figure.figsize':(10,8)})\n",
    "#Creating heatmap to visually interpret the values better\n",
    "ax = sns.heatmap(cfsn_matrix, annot=True, \n",
    "            fmt='.2%', cmap='BuPu')\n",
    "\n",
    "ax.set_title('Confusion Matrix visualization for Random forest model\\n\\n');\n",
    "ax.set_xlabel('\\nPredicted Values')\n",
    "ax.set_ylabel('Actual Values ');\n",
    "\n",
    "#Setting ticket labels\n",
    "ax.xaxis.set_ticklabels([-1, 1])\n",
    "ax.yaxis.set_ticklabels([-1, 1])\n",
    "\n",
    "# Displaying the heatmap\n",
    "plt.show()"
   ]
  },
  {
   "cell_type": "code",
   "execution_count": 54,
   "id": "f863be94",
   "metadata": {},
   "outputs": [
    {
     "name": "stdout",
     "output_type": "stream",
     "text": [
      "3: 0.09994701425137154\n",
      "1: 0.08179125073363384\n",
      "2: 0.07870311015233347\n",
      "15: 0.07799052760923532\n",
      "18: 0.04312146899331833\n",
      "20: 0.03159645352508062\n",
      "16: 0.026272845198630608\n",
      "24: 0.024497894372860495\n",
      "36: 0.023613788263027635\n",
      "51: 0.019918962075145187\n",
      "22: 0.019892732690663606\n",
      "17: 0.018525970484612162\n",
      "14: 0.018212625080238257\n",
      "0: 0.01766240069652401\n",
      "63: 0.01715941965303516\n",
      "5: 0.016958367465992163\n",
      "4: 0.016789923767162807\n",
      "11: 0.016476791933456643\n",
      "34: 0.01575962693982155\n",
      "19: 0.015349985653209336\n",
      "60: 0.014715506217866745\n",
      "33: 0.012897983530248378\n",
      "12: 0.012545090754296467\n",
      "25: 0.012334175732510179\n",
      "9: 0.012148506763481358\n",
      "7: 0.01187200064486213\n",
      "64: 0.011560616495850277\n",
      "30: 0.011512741630444025\n",
      "38: 0.011395546200876114\n",
      "8: 0.011386376063470753\n",
      "10: 0.010251013754710934\n",
      "13: 0.010149147944580817\n",
      "6: 0.009664996740540928\n",
      "41: 0.009371380589248928\n",
      "35: 0.008403282111564237\n",
      "31: 0.007717286192178682\n",
      "27: 0.007396036540027313\n",
      "43: 0.007303915055398063\n",
      "37: 0.006864094699908041\n",
      "55: 0.006536183761598605\n",
      "21: 0.006283710066869803\n",
      "52: 0.0062426625221922985\n",
      "29: 0.006160747144024517\n",
      "57: 0.004982897664760766\n",
      "68: 0.004921367985356341\n",
      "44: 0.0048698939605846155\n",
      "56: 0.004581787770537022\n",
      "26: 0.004480564696119439\n",
      "40: 0.004457159790347227\n",
      "48: 0.004393555420421717\n",
      "39: 0.004295944747277306\n",
      "46: 0.00385377730863716\n",
      "28: 0.0037871781745119418\n",
      "47: 0.0035452064821366626\n",
      "66: 0.0035240841439157437\n",
      "23: 0.0033122060059472508\n",
      "49: 0.003208617669766933\n",
      "71: 0.0029989273183671384\n",
      "59: 0.0029872268253007843\n",
      "50: 0.0028707321282843215\n",
      "65: 0.002796142769463065\n",
      "58: 0.0026320601591021077\n",
      "32: 0.002618766722796791\n",
      "61: 0.002576517104225586\n",
      "54: 0.0025546996992289205\n",
      "42: 0.0023434155229816035\n",
      "45: 0.0019371967641018729\n",
      "62: 0.001916230382456567\n",
      "53: 0.0017855935556114607\n",
      "72: 0.0014591702209799302\n",
      "73: 0.001379870541119463\n",
      "70: 0.0013092993618728193\n",
      "67: 0.0012457125642457115\n",
      "69: 0.0007527343726225741\n",
      "74: 0.0006673014708167963\n"
     ]
    }
   ],
   "source": [
    "# put them into a separate variable for convenience\n",
    "feature_importances = grid_search.best_estimator_.feature_importances_\n",
    "\n",
    "# the order of the features in `feature_importances` is the same as in the Xtrain dataframe,\n",
    "# so we can \"zip\" the two and print in the descending order:\n",
    "\n",
    "for k, v in sorted(zip(feature_importances, X_train.columns), reverse=True):\n",
    "    print(f\"{v}: {k}\")"
   ]
  },
  {
   "cell_type": "code",
   "execution_count": 55,
   "id": "cfb655dd",
   "metadata": {},
   "outputs": [],
   "source": [
    "yhat_rf = pd.DataFrame(yhat_rf)\n",
    "yhat_rf.to_csv('yhat_rf.csv')"
   ]
  },
  {
   "cell_type": "code",
   "execution_count": 56,
   "id": "0a75aa1d",
   "metadata": {},
   "outputs": [],
   "source": [
    "from sklearn.metrics import precision_recall_fscore_support\n",
    "best_rf = load('models/rfc_best_estimate.joblib')\n",
    "yhat_holdout = best_rf.predict(holdout)"
   ]
  },
  {
   "cell_type": "code",
   "execution_count": 57,
   "id": "a590488f",
   "metadata": {},
   "outputs": [],
   "source": [
    "yhat_holdout = pd.DataFrame(yhat_holdout)\n",
    "yhat_holdout.to_csv('yhat_holdout.csv')"
   ]
  },
  {
   "cell_type": "markdown",
   "id": "ab53a692",
   "metadata": {},
   "source": [
    "## Random forest oversampled"
   ]
  },
  {
   "cell_type": "code",
   "execution_count": 195,
   "id": "060e3a4c",
   "metadata": {},
   "outputs": [
    {
     "name": "stderr",
     "output_type": "stream",
     "text": [
      "c:\\ProgramData\\Anaconda3\\lib\\site-packages\\sklearn\\model_selection\\_search.py:880: DataConversionWarning: A column-vector y was passed when a 1d array was expected. Please change the shape of y to (n_samples,), for example using ravel().\n",
      "  self.best_estimator_.fit(X, y, **fit_params)\n"
     ]
    },
    {
     "name": "stdout",
     "output_type": "stream",
     "text": [
      "Took 12.09003734588623 seconds\n"
     ]
    }
   ],
   "source": [
    "from sklearn.ensemble import RandomForestClassifier\n",
    "rf = RandomForestClassifier()\n",
    "\n",
    "param_grid = {\n",
    "        'n_estimators': [200],\n",
    "        'max_depth': [15]\n",
    "}\n",
    "\n",
    "\n",
    "# we'll use 5-fold cross-validation\n",
    "grid_search = GridSearchCV(rf, param_grid, cv=5, \n",
    "                              scoring='f1_macro',return_train_score=True, n_jobs=-1)\n",
    "\n",
    "start = time.time()\n",
    "grid_search.fit(Xtrain_oslr, ytrain_oslr)\n",
    "end = time.time() - start\n",
    "print(f\"Took {end} seconds\")"
   ]
  },
  {
   "cell_type": "code",
   "execution_count": 196,
   "id": "bc04a97c",
   "metadata": {},
   "outputs": [
    {
     "data": {
      "text/plain": [
       "1.0"
      ]
     },
     "execution_count": 196,
     "metadata": {},
     "output_type": "execute_result"
    }
   ],
   "source": [
    "#check the average accuracy over the five k-fold \n",
    "grid_search.best_score_"
   ]
  },
  {
   "cell_type": "code",
   "execution_count": 197,
   "id": "70dfd4c6",
   "metadata": {},
   "outputs": [
    {
     "data": {
      "text/plain": [
       "RandomForestClassifier(max_depth=15, n_estimators=200)"
      ]
     },
     "execution_count": 197,
     "metadata": {},
     "output_type": "execute_result"
    }
   ],
   "source": [
    "rf_best_estimate = grid_search.best_estimator_\n",
    "rf_best_estimate"
   ]
  },
  {
   "cell_type": "code",
   "execution_count": 198,
   "id": "b2b0dec2",
   "metadata": {},
   "outputs": [],
   "source": [
    "log_split_test_scores = []\n",
    "for x in range(5):\n",
    "    # extract f-score of the best model (index='best_model_index') from each of the 5 splits\n",
    "    val = grid_search.cv_results_[f\"split{x}_test_score\"][best_model_index]\n",
    "    log_split_test_scores.append(val)"
   ]
  },
  {
   "cell_type": "code",
   "execution_count": 199,
   "id": "a83c5787",
   "metadata": {},
   "outputs": [
    {
     "data": {
      "text/html": [
       "<div>\n",
       "<style scoped>\n",
       "    .dataframe tbody tr th:only-of-type {\n",
       "        vertical-align: middle;\n",
       "    }\n",
       "\n",
       "    .dataframe tbody tr th {\n",
       "        vertical-align: top;\n",
       "    }\n",
       "\n",
       "    .dataframe thead th {\n",
       "        text-align: right;\n",
       "    }\n",
       "</style>\n",
       "<table border=\"1\" class=\"dataframe\">\n",
       "  <thead>\n",
       "    <tr style=\"text-align: right;\">\n",
       "      <th></th>\n",
       "      <th>params</th>\n",
       "      <th>mean_train_score</th>\n",
       "      <th>mean_test_score</th>\n",
       "      <th>diff, %</th>\n",
       "    </tr>\n",
       "  </thead>\n",
       "  <tbody>\n",
       "    <tr>\n",
       "      <th>0</th>\n",
       "      <td>{'max_depth': 15, 'n_estimators': 200}</td>\n",
       "      <td>1.0</td>\n",
       "      <td>1.0</td>\n",
       "      <td>0.0</td>\n",
       "    </tr>\n",
       "  </tbody>\n",
       "</table>\n",
       "</div>"
      ],
      "text/plain": [
       "                                   params  mean_train_score  mean_test_score  \\\n",
       "0  {'max_depth': 15, 'n_estimators': 200}               1.0              1.0   \n",
       "\n",
       "   diff, %  \n",
       "0      0.0  "
      ]
     },
     "execution_count": 199,
     "metadata": {},
     "output_type": "execute_result"
    }
   ],
   "source": [
    "cv_results = pd.DataFrame(grid_search.cv_results_)[['params', 'mean_train_score', 'mean_test_score']]\n",
    "cv_results[\"diff, %\"] = 100*(cv_results[\"mean_train_score\"]-cv_results[\"mean_test_score\"]\n",
    "                                                     )/cv_results[\"mean_train_score\"]\n",
    "\n",
    "pd.set_option('display.max_colwidth', 100)\n",
    "cv_results.sort_values('mean_test_score', ascending=False)"
   ]
  },
  {
   "cell_type": "code",
   "execution_count": 200,
   "id": "50db5dd3",
   "metadata": {},
   "outputs": [
    {
     "data": {
      "text/plain": [
       "['models/rf_best_estimate.joblib']"
      ]
     },
     "execution_count": 200,
     "metadata": {},
     "output_type": "execute_result"
    }
   ],
   "source": [
    "import os\n",
    "from joblib import dump\n",
    "\n",
    "if not os.path.exists('models'):\n",
    "    os.makedirs('models')\n",
    "    \n",
    "dump(rf_best_estimate, 'models/rf_best_estimate.joblib')"
   ]
  },
  {
   "cell_type": "code",
   "execution_count": 201,
   "id": "fb730e9a",
   "metadata": {},
   "outputs": [
    {
     "name": "stdout",
     "output_type": "stream",
     "text": [
      " F score: 0.48247978436657685\n"
     ]
    },
    {
     "name": "stderr",
     "output_type": "stream",
     "text": [
      "c:\\ProgramData\\Anaconda3\\lib\\site-packages\\sklearn\\metrics\\_classification.py:1248: UndefinedMetricWarning: Precision and F-score are ill-defined and being set to 0.0 in labels with no predicted samples. Use `zero_division` parameter to control this behavior.\n",
      "  _warn_prf(average, modifier, msg_start, len(result))\n"
     ]
    }
   ],
   "source": [
    "from sklearn.metrics import precision_recall_fscore_support\n",
    "best_rf = load('models/rf_best_estimate.joblib')\n",
    "yhat_rf = best_rf.predict(X_test)\n",
    "\n",
    "p, r, rf_test_score, s = precision_recall_fscore_support(y_test, yhat_rf, average = 'macro')\n",
    "\n",
    "print(f' F score: {rf_test_score}')"
   ]
  },
  {
   "cell_type": "code",
   "execution_count": 202,
   "id": "45091b08",
   "metadata": {},
   "outputs": [
    {
     "name": "stdout",
     "output_type": "stream",
     "text": [
      "[[537   0]\n",
      " [ 39   0]]\n"
     ]
    }
   ],
   "source": [
    "from sklearn.metrics import confusion_matrix\n",
    "cfsn_matrix = confusion_matrix(y_test, yhat_rf)\n",
    "print(cfsn_matrix)"
   ]
  },
  {
   "cell_type": "code",
   "execution_count": 203,
   "id": "9b3d6fbc",
   "metadata": {},
   "outputs": [],
   "source": [
    "#Converting the values into proportions based on category\n",
    "cfsn_matrix = (cfsn_matrix.T/cfsn_matrix.sum(axis=1)).T"
   ]
  },
  {
   "cell_type": "code",
   "execution_count": 204,
   "id": "537ea92d",
   "metadata": {},
   "outputs": [
    {
     "data": {
      "image/png": "[encoded data removed]",
      "text/plain": [
       "<Figure size 720x576 with 2 Axes>"
      ]
     },
     "metadata": {},
     "output_type": "display_data"
    }
   ],
   "source": [
    "import seaborn as sns\n",
    "import matplotlib.pyplot as plt\n",
    "\n",
    "#Setting figure size\n",
    "sns.set(rc={'figure.figsize':(10,8)})\n",
    "#Creating heatmap to visually interpret the values better\n",
    "ax = sns.heatmap(cfsn_matrix, annot=True, \n",
    "            fmt='.2%', cmap='BuPu')\n",
    "\n",
    "ax.set_title('Confusion Matrix visualization for Random forest model\\n\\n');\n",
    "ax.set_xlabel('\\nPredicted Values')\n",
    "ax.set_ylabel('Actual Values ');\n",
    "\n",
    "#Setting ticket labels\n",
    "ax.xaxis.set_ticklabels([-1, 1])\n",
    "ax.yaxis.set_ticklabels([-1, 1])\n",
    "\n",
    "# Displaying the heatmap\n",
    "plt.show()"
   ]
  },
  {
   "cell_type": "markdown",
   "id": "7c69d2a9",
   "metadata": {},
   "source": [
    "## Hyper parameter tuning and modeling"
   ]
  },
  {
   "cell_type": "markdown",
   "id": "ef303688",
   "metadata": {},
   "source": [
    "## Logistic Regression balanced"
   ]
  },
  {
   "cell_type": "code",
   "execution_count": 23,
   "id": "d8a0935d",
   "metadata": {},
   "outputs": [
    {
     "name": "stderr",
     "output_type": "stream",
     "text": [
      "C:\\Users\\walid raad\\AppData\\Roaming\\Python\\Python39\\site-packages\\sklearn\\utils\\validation.py:993: DataConversionWarning: A column-vector y was passed when a 1d array was expected. Please change the shape of y to (n_samples, ), for example using ravel().\n",
      "  y = column_or_1d(y, warn=True)\n"
     ]
    },
    {
     "name": "stdout",
     "output_type": "stream",
     "text": [
      "Took 8.918367385864258 seconds\n"
     ]
    },
    {
     "name": "stderr",
     "output_type": "stream",
     "text": [
      "C:\\Users\\walid raad\\AppData\\Roaming\\Python\\Python39\\site-packages\\sklearn\\linear_model\\_logistic.py:814: ConvergenceWarning: lbfgs failed to converge (status=1):\n",
      "STOP: TOTAL NO. of ITERATIONS REACHED LIMIT.\n",
      "\n",
      "Increase the number of iterations (max_iter) or scale the data as shown in:\n",
      "    https://scikit-learn.org/stable/modules/preprocessing.html\n",
      "Please also refer to the documentation for alternative solver options:\n",
      "    https://scikit-learn.org/stable/modules/linear_model.html#logistic-regression\n",
      "  n_iter_i = _check_optimize_result(\n"
     ]
    }
   ],
   "source": [
    "# define models and parameter and applying weights to our classes by assigning \n",
    "#class_weight=\"balanced\" to balances it out. \n",
    "from sklearn.linear_model import LogisticRegression\n",
    "lr = LogisticRegression(class_weight=\"balanced\")\n",
    "penalty = ['l2']\n",
    "c_values = [100, 10, 1.0, 0.1, 0.01]\n",
    "\n",
    "# define grid search\n",
    "grid = dict(penalty=penalty,C=c_values)\n",
    "grid_search_lr = GridSearchCV(estimator=lr, param_grid=grid, n_jobs=-1, \n",
    "                           cv=5, scoring='f1_macro',error_score=0,return_train_score=True)\n",
    "start = time.time()\n",
    "#Fit the mode\n",
    "grid_search_lr.fit(X_train, y_train)\n",
    "end = time.time() - start\n",
    "print(f\"Took {end} seconds\")"
   ]
  },
  {
   "cell_type": "code",
   "execution_count": 24,
   "id": "0e42f1c0",
   "metadata": {},
   "outputs": [
    {
     "data": {
      "text/plain": [
       "{'C': 100, 'penalty': 'l2'}"
      ]
     },
     "execution_count": 24,
     "metadata": {},
     "output_type": "execute_result"
    }
   ],
   "source": [
    "grid_search_lr.best_params_"
   ]
  },
  {
   "cell_type": "code",
   "execution_count": 25,
   "id": "a2537d92",
   "metadata": {},
   "outputs": [
    {
     "data": {
      "text/plain": [
       "0.5587114469714185"
      ]
     },
     "execution_count": 25,
     "metadata": {},
     "output_type": "execute_result"
    }
   ],
   "source": [
    "grid_search_lr.best_score_"
   ]
  },
  {
   "cell_type": "code",
   "execution_count": 26,
   "id": "4be65c7c",
   "metadata": {},
   "outputs": [
    {
     "data": {
      "text/plain": [
       "0"
      ]
     },
     "execution_count": 26,
     "metadata": {},
     "output_type": "execute_result"
    }
   ],
   "source": [
    "best_model_index = grid_search_lr.cv_results_[\"rank_test_score\"].tolist().index(1)\n",
    "best_model_index"
   ]
  },
  {
   "cell_type": "code",
   "execution_count": 27,
   "id": "40db1f35",
   "metadata": {},
   "outputs": [],
   "source": [
    "log_split_test_scores = []\n",
    "for x in range(5):\n",
    "    # extract f-score of the best model (index='best_model_index') from each of the 5 splits\n",
    "    val = grid_search_lr.cv_results_[f\"split{x}_test_score\"][best_model_index]\n",
    "    log_split_test_scores.append(val)"
   ]
  },
  {
   "cell_type": "code",
   "execution_count": 28,
   "id": "1843bb31",
   "metadata": {},
   "outputs": [
    {
     "data": {
      "text/html": [
       "<div>\n",
       "<style scoped>\n",
       "    .dataframe tbody tr th:only-of-type {\n",
       "        vertical-align: middle;\n",
       "    }\n",
       "\n",
       "    .dataframe tbody tr th {\n",
       "        vertical-align: top;\n",
       "    }\n",
       "\n",
       "    .dataframe thead th {\n",
       "        text-align: right;\n",
       "    }\n",
       "</style>\n",
       "<table border=\"1\" class=\"dataframe\">\n",
       "  <thead>\n",
       "    <tr style=\"text-align: right;\">\n",
       "      <th></th>\n",
       "      <th>params</th>\n",
       "      <th>mean_train_score</th>\n",
       "      <th>mean_test_score</th>\n",
       "      <th>diff, %</th>\n",
       "    </tr>\n",
       "  </thead>\n",
       "  <tbody>\n",
       "    <tr>\n",
       "      <th>0</th>\n",
       "      <td>{'C': 100, 'penalty': 'l2'}</td>\n",
       "      <td>0.601682</td>\n",
       "      <td>0.558711</td>\n",
       "      <td>7.141662</td>\n",
       "    </tr>\n",
       "    <tr>\n",
       "      <th>1</th>\n",
       "      <td>{'C': 10, 'penalty': 'l2'}</td>\n",
       "      <td>0.601079</td>\n",
       "      <td>0.558139</td>\n",
       "      <td>7.143835</td>\n",
       "    </tr>\n",
       "    <tr>\n",
       "      <th>2</th>\n",
       "      <td>{'C': 1.0, 'penalty': 'l2'}</td>\n",
       "      <td>0.597196</td>\n",
       "      <td>0.556132</td>\n",
       "      <td>6.876222</td>\n",
       "    </tr>\n",
       "    <tr>\n",
       "      <th>3</th>\n",
       "      <td>{'C': 0.1, 'penalty': 'l2'}</td>\n",
       "      <td>0.584122</td>\n",
       "      <td>0.550192</td>\n",
       "      <td>5.808740</td>\n",
       "    </tr>\n",
       "    <tr>\n",
       "      <th>4</th>\n",
       "      <td>{'C': 0.01, 'penalty': 'l2'}</td>\n",
       "      <td>0.561747</td>\n",
       "      <td>0.541870</td>\n",
       "      <td>3.538412</td>\n",
       "    </tr>\n",
       "  </tbody>\n",
       "</table>\n",
       "</div>"
      ],
      "text/plain": [
       "                         params  mean_train_score  mean_test_score   diff, %\n",
       "0   {'C': 100, 'penalty': 'l2'}          0.601682         0.558711  7.141662\n",
       "1    {'C': 10, 'penalty': 'l2'}          0.601079         0.558139  7.143835\n",
       "2   {'C': 1.0, 'penalty': 'l2'}          0.597196         0.556132  6.876222\n",
       "3   {'C': 0.1, 'penalty': 'l2'}          0.584122         0.550192  5.808740\n",
       "4  {'C': 0.01, 'penalty': 'l2'}          0.561747         0.541870  3.538412"
      ]
     },
     "execution_count": 28,
     "metadata": {},
     "output_type": "execute_result"
    }
   ],
   "source": [
    "cv_results = pd.DataFrame(grid_search_lr.cv_results_)[['params', 'mean_train_score', 'mean_test_score']]\n",
    "cv_results[\"diff, %\"] = 100*(cv_results[\"mean_train_score\"]-cv_results[\"mean_test_score\"]\n",
    "                                                     )/cv_results[\"mean_train_score\"]\n",
    "\n",
    "pd.set_option('display.max_colwidth', 100)\n",
    "cv_results.sort_values('mean_test_score', ascending=False)"
   ]
  },
  {
   "cell_type": "markdown",
   "id": "809e370f",
   "metadata": {},
   "source": [
    "## Logistic Regression oversampling"
   ]
  },
  {
   "cell_type": "code",
   "execution_count": 31,
   "id": "b2a63d66",
   "metadata": {},
   "outputs": [
    {
     "name": "stderr",
     "output_type": "stream",
     "text": [
      "C:\\Users\\walid raad\\AppData\\Roaming\\Python\\Python39\\site-packages\\sklearn\\utils\\validation.py:993: DataConversionWarning: A column-vector y was passed when a 1d array was expected. Please change the shape of y to (n_samples, ), for example using ravel().\n",
      "  y = column_or_1d(y, warn=True)\n"
     ]
    },
    {
     "name": "stdout",
     "output_type": "stream",
     "text": [
      "Took 22.404768228530884 seconds\n"
     ]
    },
    {
     "name": "stderr",
     "output_type": "stream",
     "text": [
      "C:\\Users\\walid raad\\AppData\\Roaming\\Python\\Python39\\site-packages\\sklearn\\linear_model\\_logistic.py:814: ConvergenceWarning: lbfgs failed to converge (status=1):\n",
      "STOP: TOTAL NO. of ITERATIONS REACHED LIMIT.\n",
      "\n",
      "Increase the number of iterations (max_iter) or scale the data as shown in:\n",
      "    https://scikit-learn.org/stable/modules/preprocessing.html\n",
      "Please also refer to the documentation for alternative solver options:\n",
      "    https://scikit-learn.org/stable/modules/linear_model.html#logistic-regression\n",
      "  n_iter_i = _check_optimize_result(\n"
     ]
    }
   ],
   "source": [
    "from sklearn.linear_model import LogisticRegression\n",
    "lr_os = LogisticRegression()\n",
    "penalty = ['l2']\n",
    "c_values = [100, 10, 1.0, 0.1, 0.01]\n",
    "\n",
    "# define grid search\n",
    "grid = dict(penalty=penalty,C=c_values)\n",
    "grid_search_oslr = GridSearchCV(estimator=lr_os, param_grid=grid, n_jobs=-1, \n",
    "                           cv=5, scoring='f1_macro',error_score=0,return_train_score=True)\n",
    "start = time.time()\n",
    "#Fit the mode\n",
    "grid_search_oslr.fit(Xtrain_oslr, ytrain_oslr)\n",
    "end = time.time() - start\n",
    "print(f\"Took {end} seconds\")"
   ]
  },
  {
   "cell_type": "code",
   "execution_count": 35,
   "id": "a75c56ca",
   "metadata": {},
   "outputs": [
    {
     "data": {
      "text/plain": [
       "{'C': 100, 'penalty': 'l2'}"
      ]
     },
     "execution_count": 35,
     "metadata": {},
     "output_type": "execute_result"
    }
   ],
   "source": [
    "grid_search_oslr.best_params_"
   ]
  },
  {
   "cell_type": "code",
   "execution_count": 36,
   "id": "b71e170d",
   "metadata": {},
   "outputs": [
    {
     "data": {
      "text/plain": [
       "0.9228223697972675"
      ]
     },
     "execution_count": 36,
     "metadata": {},
     "output_type": "execute_result"
    }
   ],
   "source": [
    "grid_search_oslr.best_score_"
   ]
  },
  {
   "cell_type": "code",
   "execution_count": 37,
   "id": "58c5a2e4",
   "metadata": {},
   "outputs": [
    {
     "data": {
      "text/html": [
       "<div>\n",
       "<style scoped>\n",
       "    .dataframe tbody tr th:only-of-type {\n",
       "        vertical-align: middle;\n",
       "    }\n",
       "\n",
       "    .dataframe tbody tr th {\n",
       "        vertical-align: top;\n",
       "    }\n",
       "\n",
       "    .dataframe thead th {\n",
       "        text-align: right;\n",
       "    }\n",
       "</style>\n",
       "<table border=\"1\" class=\"dataframe\">\n",
       "  <thead>\n",
       "    <tr style=\"text-align: right;\">\n",
       "      <th></th>\n",
       "      <th>params</th>\n",
       "      <th>mean_train_score</th>\n",
       "      <th>mean_test_score</th>\n",
       "      <th>diff, %</th>\n",
       "    </tr>\n",
       "  </thead>\n",
       "  <tbody>\n",
       "    <tr>\n",
       "      <th>0</th>\n",
       "      <td>{'C': 100, 'penalty': 'l2'}</td>\n",
       "      <td>0.928791</td>\n",
       "      <td>0.922822</td>\n",
       "      <td>0.642667</td>\n",
       "    </tr>\n",
       "    <tr>\n",
       "      <th>1</th>\n",
       "      <td>{'C': 10, 'penalty': 'l2'}</td>\n",
       "      <td>0.928537</td>\n",
       "      <td>0.922559</td>\n",
       "      <td>0.643871</td>\n",
       "    </tr>\n",
       "    <tr>\n",
       "      <th>2</th>\n",
       "      <td>{'C': 1.0, 'penalty': 'l2'}</td>\n",
       "      <td>0.926307</td>\n",
       "      <td>0.920287</td>\n",
       "      <td>0.649835</td>\n",
       "    </tr>\n",
       "    <tr>\n",
       "      <th>3</th>\n",
       "      <td>{'C': 0.1, 'penalty': 'l2'}</td>\n",
       "      <td>0.920001</td>\n",
       "      <td>0.914866</td>\n",
       "      <td>0.558238</td>\n",
       "    </tr>\n",
       "    <tr>\n",
       "      <th>4</th>\n",
       "      <td>{'C': 0.01, 'penalty': 'l2'}</td>\n",
       "      <td>0.896175</td>\n",
       "      <td>0.892366</td>\n",
       "      <td>0.425043</td>\n",
       "    </tr>\n",
       "  </tbody>\n",
       "</table>\n",
       "</div>"
      ],
      "text/plain": [
       "                         params  mean_train_score  mean_test_score   diff, %\n",
       "0   {'C': 100, 'penalty': 'l2'}          0.928791         0.922822  0.642667\n",
       "1    {'C': 10, 'penalty': 'l2'}          0.928537         0.922559  0.643871\n",
       "2   {'C': 1.0, 'penalty': 'l2'}          0.926307         0.920287  0.649835\n",
       "3   {'C': 0.1, 'penalty': 'l2'}          0.920001         0.914866  0.558238\n",
       "4  {'C': 0.01, 'penalty': 'l2'}          0.896175         0.892366  0.425043"
      ]
     },
     "execution_count": 37,
     "metadata": {},
     "output_type": "execute_result"
    }
   ],
   "source": [
    "cv_results = pd.DataFrame(grid_search_oslr.cv_results_)[['params', 'mean_train_score', 'mean_test_score']]\n",
    "cv_results[\"diff, %\"] = 100*(cv_results[\"mean_train_score\"]-cv_results[\"mean_test_score\"]\n",
    "                                                     )/cv_results[\"mean_train_score\"]\n",
    "\n",
    "pd.set_option('display.max_colwidth', 100)\n",
    "cv_results.sort_values('mean_test_score', ascending=False)"
   ]
  },
  {
   "cell_type": "markdown",
   "id": "6210898a",
   "metadata": {},
   "source": [
    "## Decision Tree Balanced"
   ]
  },
  {
   "cell_type": "code",
   "execution_count": 38,
   "id": "b5f53ce6",
   "metadata": {},
   "outputs": [
    {
     "name": "stdout",
     "output_type": "stream",
     "text": [
      "Took 46.54943108558655 seconds\n"
     ]
    }
   ],
   "source": [
    "from sklearn.tree import DecisionTreeClassifier\n",
    "# define models and parameter and applying weights to our classes by assigning class_weight=\"balanced\"\n",
    "dt = DecisionTreeClassifier(class_weight=\"balanced\",random_state=7)\n",
    "criterion = ['gini',\"entropy\"]\n",
    "max_depth = [10,50,100]\n",
    "max_features=[\"auto\",\"sqrt\",None]\n",
    "# define grid search\n",
    "grid = dict(criterion=criterion,max_depth=max_depth,max_features=max_features)\n",
    "grid_search_dt = GridSearchCV(estimator=dt, param_grid=grid, n_jobs=-1, cv=5, scoring='f1_macro',\n",
    "                              error_score=0,return_train_score=True)\n",
    "start = time.time()\n",
    "grid_search_dt.fit(X_train, y_train)\n",
    "#Fit the model \n",
    "\n",
    "end = time.time() - start\n",
    "print(f\"Took {end} seconds\")"
   ]
  },
  {
   "cell_type": "code",
   "execution_count": 39,
   "id": "edab9759",
   "metadata": {},
   "outputs": [
    {
     "data": {
      "text/plain": [
       "DecisionTreeClassifier(class_weight='balanced', max_depth=50,\n",
       "                       max_features='auto', random_state=7)"
      ]
     },
     "execution_count": 39,
     "metadata": {},
     "output_type": "execute_result"
    }
   ],
   "source": [
    "grid_search_dt.best_estimator_"
   ]
  },
  {
   "cell_type": "code",
   "execution_count": 40,
   "id": "77f270a2",
   "metadata": {},
   "outputs": [
    {
     "data": {
      "text/plain": [
       "0.6597411599672849"
      ]
     },
     "execution_count": 40,
     "metadata": {},
     "output_type": "execute_result"
    }
   ],
   "source": [
    "grid_search_dt.best_score_"
   ]
  },
  {
   "cell_type": "code",
   "execution_count": 41,
   "id": "fdab15d3",
   "metadata": {},
   "outputs": [
    {
     "data": {
      "text/plain": [
       "3"
      ]
     },
     "execution_count": 41,
     "metadata": {},
     "output_type": "execute_result"
    }
   ],
   "source": [
    "#extracting index number for the best achieved model\n",
    "best_model_index = grid_search_dt.cv_results_[\"rank_test_score\"].tolist().index(1)\n",
    "best_model_index"
   ]
  },
  {
   "cell_type": "code",
   "execution_count": 42,
   "id": "c3bf3d78",
   "metadata": {},
   "outputs": [],
   "source": [
    "dt_split_test_scores = []\n",
    "for x in range(5):\n",
    "    # extract f-score of the best model (index='best_model_index') from each of the 5 splits\n",
    "    val = grid_search_dt.cv_results_[f\"split{x}_test_score\"][best_model_index]\n",
    "    dt_split_test_scores.append(val)"
   ]
  },
  {
   "cell_type": "code",
   "execution_count": 43,
   "id": "9bfadaa5",
   "metadata": {},
   "outputs": [
    {
     "data": {
      "text/html": [
       "<div>\n",
       "<style scoped>\n",
       "    .dataframe tbody tr th:only-of-type {\n",
       "        vertical-align: middle;\n",
       "    }\n",
       "\n",
       "    .dataframe tbody tr th {\n",
       "        vertical-align: top;\n",
       "    }\n",
       "\n",
       "    .dataframe thead th {\n",
       "        text-align: right;\n",
       "    }\n",
       "</style>\n",
       "<table border=\"1\" class=\"dataframe\">\n",
       "  <thead>\n",
       "    <tr style=\"text-align: right;\">\n",
       "      <th></th>\n",
       "      <th>params</th>\n",
       "      <th>mean_train_score</th>\n",
       "      <th>mean_test_score</th>\n",
       "      <th>diff, %</th>\n",
       "    </tr>\n",
       "  </thead>\n",
       "  <tbody>\n",
       "    <tr>\n",
       "      <th>3</th>\n",
       "      <td>{'criterion': 'gini', 'max_depth': 50, 'max_features': 'auto'}</td>\n",
       "      <td>0.936067</td>\n",
       "      <td>0.659741</td>\n",
       "      <td>29.519893</td>\n",
       "    </tr>\n",
       "    <tr>\n",
       "      <th>4</th>\n",
       "      <td>{'criterion': 'gini', 'max_depth': 50, 'max_features': 'sqrt'}</td>\n",
       "      <td>0.936067</td>\n",
       "      <td>0.659741</td>\n",
       "      <td>29.519893</td>\n",
       "    </tr>\n",
       "    <tr>\n",
       "      <th>6</th>\n",
       "      <td>{'criterion': 'gini', 'max_depth': 100, 'max_features': 'auto'}</td>\n",
       "      <td>0.940619</td>\n",
       "      <td>0.658320</td>\n",
       "      <td>30.012082</td>\n",
       "    </tr>\n",
       "    <tr>\n",
       "      <th>7</th>\n",
       "      <td>{'criterion': 'gini', 'max_depth': 100, 'max_features': 'sqrt'}</td>\n",
       "      <td>0.940619</td>\n",
       "      <td>0.658320</td>\n",
       "      <td>30.012082</td>\n",
       "    </tr>\n",
       "    <tr>\n",
       "      <th>16</th>\n",
       "      <td>{'criterion': 'entropy', 'max_depth': 100, 'max_features': 'sqrt'}</td>\n",
       "      <td>0.940619</td>\n",
       "      <td>0.656627</td>\n",
       "      <td>30.192044</td>\n",
       "    </tr>\n",
       "    <tr>\n",
       "      <th>15</th>\n",
       "      <td>{'criterion': 'entropy', 'max_depth': 100, 'max_features': 'auto'}</td>\n",
       "      <td>0.940619</td>\n",
       "      <td>0.656627</td>\n",
       "      <td>30.192044</td>\n",
       "    </tr>\n",
       "    <tr>\n",
       "      <th>12</th>\n",
       "      <td>{'criterion': 'entropy', 'max_depth': 50, 'max_features': 'auto'}</td>\n",
       "      <td>0.940619</td>\n",
       "      <td>0.656627</td>\n",
       "      <td>30.192044</td>\n",
       "    </tr>\n",
       "    <tr>\n",
       "      <th>13</th>\n",
       "      <td>{'criterion': 'entropy', 'max_depth': 50, 'max_features': 'sqrt'}</td>\n",
       "      <td>0.940619</td>\n",
       "      <td>0.656627</td>\n",
       "      <td>30.192044</td>\n",
       "    </tr>\n",
       "    <tr>\n",
       "      <th>5</th>\n",
       "      <td>{'criterion': 'gini', 'max_depth': 50, 'max_features': None}</td>\n",
       "      <td>0.918550</td>\n",
       "      <td>0.653477</td>\n",
       "      <td>28.857741</td>\n",
       "    </tr>\n",
       "    <tr>\n",
       "      <th>17</th>\n",
       "      <td>{'criterion': 'entropy', 'max_depth': 100, 'max_features': None}</td>\n",
       "      <td>0.940619</td>\n",
       "      <td>0.653229</td>\n",
       "      <td>30.553232</td>\n",
       "    </tr>\n",
       "    <tr>\n",
       "      <th>14</th>\n",
       "      <td>{'criterion': 'entropy', 'max_depth': 50, 'max_features': None}</td>\n",
       "      <td>0.940619</td>\n",
       "      <td>0.653229</td>\n",
       "      <td>30.553232</td>\n",
       "    </tr>\n",
       "    <tr>\n",
       "      <th>8</th>\n",
       "      <td>{'criterion': 'gini', 'max_depth': 100, 'max_features': None}</td>\n",
       "      <td>0.939706</td>\n",
       "      <td>0.648278</td>\n",
       "      <td>31.012700</td>\n",
       "    </tr>\n",
       "    <tr>\n",
       "      <th>2</th>\n",
       "      <td>{'criterion': 'gini', 'max_depth': 10, 'max_features': None}</td>\n",
       "      <td>0.719239</td>\n",
       "      <td>0.602497</td>\n",
       "      <td>16.231220</td>\n",
       "    </tr>\n",
       "    <tr>\n",
       "      <th>11</th>\n",
       "      <td>{'criterion': 'entropy', 'max_depth': 10, 'max_features': None}</td>\n",
       "      <td>0.683627</td>\n",
       "      <td>0.580371</td>\n",
       "      <td>15.104204</td>\n",
       "    </tr>\n",
       "    <tr>\n",
       "      <th>0</th>\n",
       "      <td>{'criterion': 'gini', 'max_depth': 10, 'max_features': 'auto'}</td>\n",
       "      <td>0.651673</td>\n",
       "      <td>0.562554</td>\n",
       "      <td>13.675309</td>\n",
       "    </tr>\n",
       "    <tr>\n",
       "      <th>1</th>\n",
       "      <td>{'criterion': 'gini', 'max_depth': 10, 'max_features': 'sqrt'}</td>\n",
       "      <td>0.651673</td>\n",
       "      <td>0.562554</td>\n",
       "      <td>13.675309</td>\n",
       "    </tr>\n",
       "    <tr>\n",
       "      <th>10</th>\n",
       "      <td>{'criterion': 'entropy', 'max_depth': 10, 'max_features': 'sqrt'}</td>\n",
       "      <td>0.622274</td>\n",
       "      <td>0.550267</td>\n",
       "      <td>11.571505</td>\n",
       "    </tr>\n",
       "    <tr>\n",
       "      <th>9</th>\n",
       "      <td>{'criterion': 'entropy', 'max_depth': 10, 'max_features': 'auto'}</td>\n",
       "      <td>0.622274</td>\n",
       "      <td>0.550267</td>\n",
       "      <td>11.571505</td>\n",
       "    </tr>\n",
       "  </tbody>\n",
       "</table>\n",
       "</div>"
      ],
      "text/plain": [
       "                                                                params  \\\n",
       "3       {'criterion': 'gini', 'max_depth': 50, 'max_features': 'auto'}   \n",
       "4       {'criterion': 'gini', 'max_depth': 50, 'max_features': 'sqrt'}   \n",
       "6      {'criterion': 'gini', 'max_depth': 100, 'max_features': 'auto'}   \n",
       "7      {'criterion': 'gini', 'max_depth': 100, 'max_features': 'sqrt'}   \n",
       "16  {'criterion': 'entropy', 'max_depth': 100, 'max_features': 'sqrt'}   \n",
       "15  {'criterion': 'entropy', 'max_depth': 100, 'max_features': 'auto'}   \n",
       "12   {'criterion': 'entropy', 'max_depth': 50, 'max_features': 'auto'}   \n",
       "13   {'criterion': 'entropy', 'max_depth': 50, 'max_features': 'sqrt'}   \n",
       "5         {'criterion': 'gini', 'max_depth': 50, 'max_features': None}   \n",
       "17    {'criterion': 'entropy', 'max_depth': 100, 'max_features': None}   \n",
       "14     {'criterion': 'entropy', 'max_depth': 50, 'max_features': None}   \n",
       "8        {'criterion': 'gini', 'max_depth': 100, 'max_features': None}   \n",
       "2         {'criterion': 'gini', 'max_depth': 10, 'max_features': None}   \n",
       "11     {'criterion': 'entropy', 'max_depth': 10, 'max_features': None}   \n",
       "0       {'criterion': 'gini', 'max_depth': 10, 'max_features': 'auto'}   \n",
       "1       {'criterion': 'gini', 'max_depth': 10, 'max_features': 'sqrt'}   \n",
       "10   {'criterion': 'entropy', 'max_depth': 10, 'max_features': 'sqrt'}   \n",
       "9    {'criterion': 'entropy', 'max_depth': 10, 'max_features': 'auto'}   \n",
       "\n",
       "    mean_train_score  mean_test_score    diff, %  \n",
       "3           0.936067         0.659741  29.519893  \n",
       "4           0.936067         0.659741  29.519893  \n",
       "6           0.940619         0.658320  30.012082  \n",
       "7           0.940619         0.658320  30.012082  \n",
       "16          0.940619         0.656627  30.192044  \n",
       "15          0.940619         0.656627  30.192044  \n",
       "12          0.940619         0.656627  30.192044  \n",
       "13          0.940619         0.656627  30.192044  \n",
       "5           0.918550         0.653477  28.857741  \n",
       "17          0.940619         0.653229  30.553232  \n",
       "14          0.940619         0.653229  30.553232  \n",
       "8           0.939706         0.648278  31.012700  \n",
       "2           0.719239         0.602497  16.231220  \n",
       "11          0.683627         0.580371  15.104204  \n",
       "0           0.651673         0.562554  13.675309  \n",
       "1           0.651673         0.562554  13.675309  \n",
       "10          0.622274         0.550267  11.571505  \n",
       "9           0.622274         0.550267  11.571505  "
      ]
     },
     "execution_count": 43,
     "metadata": {},
     "output_type": "execute_result"
    }
   ],
   "source": [
    "cv_results = pd.DataFrame(grid_search_dt.cv_results_)[['params', 'mean_train_score', 'mean_test_score']]\n",
    "cv_results[\"diff, %\"] = 100*(cv_results[\"mean_train_score\"]-cv_results[\"mean_test_score\"]\n",
    "                                                     )/cv_results[\"mean_train_score\"]\n",
    "\n",
    "pd.set_option('display.max_colwidth', 100)\n",
    "cv_results.sort_values('mean_test_score', ascending=False)"
   ]
  },
  {
   "cell_type": "markdown",
   "id": "54142ca2",
   "metadata": {},
   "source": [
    "## Decision Tree OverSampling"
   ]
  },
  {
   "cell_type": "code",
   "execution_count": 72,
   "id": "09d235ff",
   "metadata": {},
   "outputs": [
    {
     "name": "stdout",
     "output_type": "stream",
     "text": [
      "Took 45.93230891227722 seconds\n"
     ]
    }
   ],
   "source": [
    "from sklearn.tree import DecisionTreeClassifier\n",
    "dt_os = DecisionTreeClassifier(random_state=7)\n",
    "criterion = ['gini',\"entropy\"]\n",
    "max_depth = [10,50,100]\n",
    "max_features=[\"auto\",\"sqrt\",None]\n",
    "# define grid search\n",
    "grid = dict(criterion=criterion,max_depth=max_depth,max_features=max_features)\n",
    "grid_search_dtos = GridSearchCV(estimator=dt_os, param_grid=grid, n_jobs=-1, cv=5, scoring='f1',\n",
    "                              error_score=0,return_train_score=True)\n",
    "start = time.time()\n",
    "grid_search_dtos.fit(Xtrain_oslr, ytrain_oslr)\n",
    "#Fit the model \n",
    "\n",
    "end = time.time() - start\n",
    "print(f\"Took {end} seconds\")"
   ]
  },
  {
   "cell_type": "code",
   "execution_count": 73,
   "id": "30730010",
   "metadata": {},
   "outputs": [
    {
     "data": {
      "text/plain": [
       "DecisionTreeClassifier(criterion='entropy', max_depth=50, max_features='auto',\n",
       "                       random_state=7)"
      ]
     },
     "execution_count": 73,
     "metadata": {},
     "output_type": "execute_result"
    }
   ],
   "source": [
    "grid_search_dtos.best_estimator_"
   ]
  },
  {
   "cell_type": "code",
   "execution_count": 74,
   "id": "97ae2ece",
   "metadata": {},
   "outputs": [
    {
     "data": {
      "text/plain": [
       "0.9937278832440128"
      ]
     },
     "execution_count": 74,
     "metadata": {},
     "output_type": "execute_result"
    }
   ],
   "source": [
    "grid_search_dtos.best_score_"
   ]
  },
  {
   "cell_type": "code",
   "execution_count": 75,
   "id": "35ff340c",
   "metadata": {},
   "outputs": [
    {
     "data": {
      "text/html": [
       "<div>\n",
       "<style scoped>\n",
       "    .dataframe tbody tr th:only-of-type {\n",
       "        vertical-align: middle;\n",
       "    }\n",
       "\n",
       "    .dataframe tbody tr th {\n",
       "        vertical-align: top;\n",
       "    }\n",
       "\n",
       "    .dataframe thead th {\n",
       "        text-align: right;\n",
       "    }\n",
       "</style>\n",
       "<table border=\"1\" class=\"dataframe\">\n",
       "  <thead>\n",
       "    <tr style=\"text-align: right;\">\n",
       "      <th></th>\n",
       "      <th>params</th>\n",
       "      <th>mean_train_score</th>\n",
       "      <th>mean_test_score</th>\n",
       "      <th>diff, %</th>\n",
       "    </tr>\n",
       "  </thead>\n",
       "  <tbody>\n",
       "    <tr>\n",
       "      <th>16</th>\n",
       "      <td>{'criterion': 'entropy', 'max_depth': 100, 'max_features': 'sqrt'}</td>\n",
       "      <td>0.997969</td>\n",
       "      <td>0.993728</td>\n",
       "      <td>0.424979</td>\n",
       "    </tr>\n",
       "    <tr>\n",
       "      <th>15</th>\n",
       "      <td>{'criterion': 'entropy', 'max_depth': 100, 'max_features': 'auto'}</td>\n",
       "      <td>0.997969</td>\n",
       "      <td>0.993728</td>\n",
       "      <td>0.424979</td>\n",
       "    </tr>\n",
       "    <tr>\n",
       "      <th>12</th>\n",
       "      <td>{'criterion': 'entropy', 'max_depth': 50, 'max_features': 'auto'}</td>\n",
       "      <td>0.997946</td>\n",
       "      <td>0.993728</td>\n",
       "      <td>0.422682</td>\n",
       "    </tr>\n",
       "    <tr>\n",
       "      <th>13</th>\n",
       "      <td>{'criterion': 'entropy', 'max_depth': 50, 'max_features': 'sqrt'}</td>\n",
       "      <td>0.997946</td>\n",
       "      <td>0.993728</td>\n",
       "      <td>0.422682</td>\n",
       "    </tr>\n",
       "    <tr>\n",
       "      <th>6</th>\n",
       "      <td>{'criterion': 'gini', 'max_depth': 100, 'max_features': 'auto'}</td>\n",
       "      <td>0.997969</td>\n",
       "      <td>0.993662</td>\n",
       "      <td>0.431570</td>\n",
       "    </tr>\n",
       "    <tr>\n",
       "      <th>7</th>\n",
       "      <td>{'criterion': 'gini', 'max_depth': 100, 'max_features': 'sqrt'}</td>\n",
       "      <td>0.997969</td>\n",
       "      <td>0.993662</td>\n",
       "      <td>0.431570</td>\n",
       "    </tr>\n",
       "    <tr>\n",
       "      <th>3</th>\n",
       "      <td>{'criterion': 'gini', 'max_depth': 50, 'max_features': 'auto'}</td>\n",
       "      <td>0.997893</td>\n",
       "      <td>0.993650</td>\n",
       "      <td>0.425252</td>\n",
       "    </tr>\n",
       "    <tr>\n",
       "      <th>4</th>\n",
       "      <td>{'criterion': 'gini', 'max_depth': 50, 'max_features': 'sqrt'}</td>\n",
       "      <td>0.997893</td>\n",
       "      <td>0.993650</td>\n",
       "      <td>0.425252</td>\n",
       "    </tr>\n",
       "    <tr>\n",
       "      <th>8</th>\n",
       "      <td>{'criterion': 'gini', 'max_depth': 100, 'max_features': None}</td>\n",
       "      <td>0.997486</td>\n",
       "      <td>0.992635</td>\n",
       "      <td>0.486350</td>\n",
       "    </tr>\n",
       "    <tr>\n",
       "      <th>17</th>\n",
       "      <td>{'criterion': 'entropy', 'max_depth': 100, 'max_features': None}</td>\n",
       "      <td>0.997969</td>\n",
       "      <td>0.992572</td>\n",
       "      <td>0.540761</td>\n",
       "    </tr>\n",
       "    <tr>\n",
       "      <th>14</th>\n",
       "      <td>{'criterion': 'entropy', 'max_depth': 50, 'max_features': None}</td>\n",
       "      <td>0.997969</td>\n",
       "      <td>0.992572</td>\n",
       "      <td>0.540761</td>\n",
       "    </tr>\n",
       "    <tr>\n",
       "      <th>5</th>\n",
       "      <td>{'criterion': 'gini', 'max_depth': 50, 'max_features': None}</td>\n",
       "      <td>0.996095</td>\n",
       "      <td>0.990974</td>\n",
       "      <td>0.514129</td>\n",
       "    </tr>\n",
       "    <tr>\n",
       "      <th>2</th>\n",
       "      <td>{'criterion': 'gini', 'max_depth': 10, 'max_features': None}</td>\n",
       "      <td>0.980387</td>\n",
       "      <td>0.975380</td>\n",
       "      <td>0.510694</td>\n",
       "    </tr>\n",
       "    <tr>\n",
       "      <th>11</th>\n",
       "      <td>{'criterion': 'entropy', 'max_depth': 10, 'max_features': None}</td>\n",
       "      <td>0.977046</td>\n",
       "      <td>0.971291</td>\n",
       "      <td>0.589048</td>\n",
       "    </tr>\n",
       "    <tr>\n",
       "      <th>0</th>\n",
       "      <td>{'criterion': 'gini', 'max_depth': 10, 'max_features': 'auto'}</td>\n",
       "      <td>0.935926</td>\n",
       "      <td>0.933302</td>\n",
       "      <td>0.280367</td>\n",
       "    </tr>\n",
       "    <tr>\n",
       "      <th>1</th>\n",
       "      <td>{'criterion': 'gini', 'max_depth': 10, 'max_features': 'sqrt'}</td>\n",
       "      <td>0.935926</td>\n",
       "      <td>0.933302</td>\n",
       "      <td>0.280367</td>\n",
       "    </tr>\n",
       "    <tr>\n",
       "      <th>10</th>\n",
       "      <td>{'criterion': 'entropy', 'max_depth': 10, 'max_features': 'sqrt'}</td>\n",
       "      <td>0.917716</td>\n",
       "      <td>0.911704</td>\n",
       "      <td>0.655124</td>\n",
       "    </tr>\n",
       "    <tr>\n",
       "      <th>9</th>\n",
       "      <td>{'criterion': 'entropy', 'max_depth': 10, 'max_features': 'auto'}</td>\n",
       "      <td>0.917716</td>\n",
       "      <td>0.911704</td>\n",
       "      <td>0.655124</td>\n",
       "    </tr>\n",
       "  </tbody>\n",
       "</table>\n",
       "</div>"
      ],
      "text/plain": [
       "                                                                params  \\\n",
       "16  {'criterion': 'entropy', 'max_depth': 100, 'max_features': 'sqrt'}   \n",
       "15  {'criterion': 'entropy', 'max_depth': 100, 'max_features': 'auto'}   \n",
       "12   {'criterion': 'entropy', 'max_depth': 50, 'max_features': 'auto'}   \n",
       "13   {'criterion': 'entropy', 'max_depth': 50, 'max_features': 'sqrt'}   \n",
       "6      {'criterion': 'gini', 'max_depth': 100, 'max_features': 'auto'}   \n",
       "7      {'criterion': 'gini', 'max_depth': 100, 'max_features': 'sqrt'}   \n",
       "3       {'criterion': 'gini', 'max_depth': 50, 'max_features': 'auto'}   \n",
       "4       {'criterion': 'gini', 'max_depth': 50, 'max_features': 'sqrt'}   \n",
       "8        {'criterion': 'gini', 'max_depth': 100, 'max_features': None}   \n",
       "17    {'criterion': 'entropy', 'max_depth': 100, 'max_features': None}   \n",
       "14     {'criterion': 'entropy', 'max_depth': 50, 'max_features': None}   \n",
       "5         {'criterion': 'gini', 'max_depth': 50, 'max_features': None}   \n",
       "2         {'criterion': 'gini', 'max_depth': 10, 'max_features': None}   \n",
       "11     {'criterion': 'entropy', 'max_depth': 10, 'max_features': None}   \n",
       "0       {'criterion': 'gini', 'max_depth': 10, 'max_features': 'auto'}   \n",
       "1       {'criterion': 'gini', 'max_depth': 10, 'max_features': 'sqrt'}   \n",
       "10   {'criterion': 'entropy', 'max_depth': 10, 'max_features': 'sqrt'}   \n",
       "9    {'criterion': 'entropy', 'max_depth': 10, 'max_features': 'auto'}   \n",
       "\n",
       "    mean_train_score  mean_test_score   diff, %  \n",
       "16          0.997969         0.993728  0.424979  \n",
       "15          0.997969         0.993728  0.424979  \n",
       "12          0.997946         0.993728  0.422682  \n",
       "13          0.997946         0.993728  0.422682  \n",
       "6           0.997969         0.993662  0.431570  \n",
       "7           0.997969         0.993662  0.431570  \n",
       "3           0.997893         0.993650  0.425252  \n",
       "4           0.997893         0.993650  0.425252  \n",
       "8           0.997486         0.992635  0.486350  \n",
       "17          0.997969         0.992572  0.540761  \n",
       "14          0.997969         0.992572  0.540761  \n",
       "5           0.996095         0.990974  0.514129  \n",
       "2           0.980387         0.975380  0.510694  \n",
       "11          0.977046         0.971291  0.589048  \n",
       "0           0.935926         0.933302  0.280367  \n",
       "1           0.935926         0.933302  0.280367  \n",
       "10          0.917716         0.911704  0.655124  \n",
       "9           0.917716         0.911704  0.655124  "
      ]
     },
     "execution_count": 75,
     "metadata": {},
     "output_type": "execute_result"
    }
   ],
   "source": [
    "cv_results = pd.DataFrame(grid_search_dtos.cv_results_)[['params', 'mean_train_score', 'mean_test_score']]\n",
    "cv_results[\"diff, %\"] = 100*(cv_results[\"mean_train_score\"]-cv_results[\"mean_test_score\"]\n",
    "                                                     )/cv_results[\"mean_train_score\"]\n",
    "\n",
    "pd.set_option('display.max_colwidth', 100)\n",
    "cv_results.sort_values('mean_test_score', ascending=False)"
   ]
  },
  {
   "cell_type": "markdown",
   "id": "01c5a8b4",
   "metadata": {},
   "source": [
    "## XGBOOST Classifier"
   ]
  },
  {
   "cell_type": "code",
   "execution_count": null,
   "id": "9cae75fc",
   "metadata": {},
   "outputs": [],
   "source": [
    "from xgboost import XGBClassifier\n",
    "# define models and parameter\n",
    "xgb = XGBClassifier(random_state=7)\n",
    "loss = ['deviance',\"exponential\"]\n",
    "n_estimators = [200,300]\n",
    "max_depth=[15,20]\n",
    "# define grid search\n",
    "grid = dict(loss=loss,n_estimators=n_estimators,max_depth=max_depth)\n",
    "grid_search_xgb = GridSearchCV(estimator=xgb, param_grid=grid, n_jobs=-1, cv=5, scoring='f1',\n",
    "                              error_score=0,return_train_score=True)\n",
    "start = time.time()\n",
    "grid_search_xgb.fit(X_train, y_train)\n",
    "#Fit the model \n",
    "\n",
    "end = time.time() - start\n",
    "print(f\"Took {end} seconds\")"
   ]
  },
  {
   "cell_type": "code",
   "execution_count": null,
   "id": "d0a09441",
   "metadata": {},
   "outputs": [],
   "source": [
    "grid_search_xgb.best_estimator_"
   ]
  },
  {
   "cell_type": "code",
   "execution_count": null,
   "id": "f34b4224",
   "metadata": {},
   "outputs": [],
   "source": [
    "grid_search_xgb.best_score_"
   ]
  },
  {
   "cell_type": "code",
   "execution_count": null,
   "id": "b6f755ea",
   "metadata": {},
   "outputs": [],
   "source": [
    "best_model_index = grid_search_xgb.cv_results_[\"rank_test_score\"].tolist().index(1)\n",
    "best_model_index"
   ]
  },
  {
   "cell_type": "code",
   "execution_count": null,
   "id": "500364bb",
   "metadata": {},
   "outputs": [],
   "source": [
    "dt_split_test_scores = []\n",
    "for x in range(5):\n",
    "    # extract f-score of the best model (index='best_model_index') from each of the 5 splits\n",
    "    val = grid_search_xgb.cv_results_[f\"split{x}_test_score\"][best_model_index]\n",
    "    dt_split_test_scores.append(val)"
   ]
  },
  {
   "cell_type": "code",
   "execution_count": null,
   "id": "82cff923",
   "metadata": {},
   "outputs": [],
   "source": [
    "cv_results = pd.DataFrame(grid_search_xgb.cv_results_)[['params', 'mean_train_score', 'mean_test_score']]\n",
    "cv_results[\"diff, %\"] = 100*(cv_results[\"mean_train_score\"]-cv_results[\"mean_test_score\"]\n",
    "                                                     )/cv_results[\"mean_train_score\"]\n",
    "\n",
    "pd.set_option('display.max_colwidth', 100)\n",
    "cv_results.sort_values('mean_test_score', ascending=False)"
   ]
  }
 ],
 "metadata": {
  "interpreter": {
   "hash": "ad2bdc8ecc057115af97d19610ffacc2b4e99fae6737bb82f5d7fb13d2f2c186"
  },
  "kernelspec": {
   "display_name": "Python 3 (ipykernel)",
   "language": "python",
   "name": "python3"
  },
  "language_info": {
   "codemirror_mode": {
    "name": "ipython",
    "version": 3
   },
   "file_extension": ".py",
   "mimetype": "text/x-python",
   "name": "python",
   "nbconvert_exporter": "python",
   "pygments_lexer": "ipython3",
   "version": "3.9.7"
  }
 },
 "nbformat": 4,
 "nbformat_minor": 5
}
